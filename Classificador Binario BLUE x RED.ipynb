{
 "cells": [
  {
   "cell_type": "markdown",
   "id": "5b74aa48",
   "metadata": {},
   "source": [
    "# Teste 01 - Rede Neural Convolucional p/ Classificadção Binário (Vermelho x Azul) - OK!\n"
   ]
  },
  {
   "cell_type": "code",
   "execution_count": null,
   "id": "3e4c3b32",
   "metadata": {},
   "outputs": [],
   "source": []
  },
  {
   "cell_type": "code",
   "execution_count": 18,
   "id": "54259872",
   "metadata": {},
   "outputs": [],
   "source": [
    "import pandas as pd\n",
    "import os\n",
    "import numpy as np\n",
    "import seaborn as sns\n",
    "import matplotlib.pyplot as plt\n",
    "import plotly.express as px\n",
    "from keras.models import Sequential\n",
    "from keras.layers import Dense, Flatten, Conv2D, MaxPooling2D, Dropout\n",
    "from tensorflow.keras.layers import BatchNormalization\n",
    "from keras.preprocessing.image import ImageDataGenerator\n",
    "from keras.preprocessing import image\n",
    "from zipfile import ZipFile\n",
    "from tensorflow.keras.utils import load_img, img_to_array"
   ]
  },
  {
   "cell_type": "code",
   "execution_count": 9,
   "id": "eda47c07",
   "metadata": {},
   "outputs": [
    {
     "ename": "ModuleNotFoundError",
     "evalue": "No module named 'google.colab'",
     "output_type": "error",
     "traceback": [
      "\u001b[1;31m---------------------------------------------------------------------------\u001b[0m",
      "\u001b[1;31mModuleNotFoundError\u001b[0m                       Traceback (most recent call last)",
      "Cell \u001b[1;32mIn[9], line 1\u001b[0m\n\u001b[1;32m----> 1\u001b[0m \u001b[38;5;28;01mfrom\u001b[39;00m \u001b[38;5;21;01mgoogle\u001b[39;00m\u001b[38;5;21;01m.\u001b[39;00m\u001b[38;5;21;01mcolab\u001b[39;00m \u001b[38;5;28;01mimport\u001b[39;00m drive\n\u001b[0;32m      2\u001b[0m drive\u001b[38;5;241m.\u001b[39mmount(\u001b[38;5;124m'\u001b[39m\u001b[38;5;124m/content/drive\u001b[39m\u001b[38;5;124m'\u001b[39m)\n",
      "\u001b[1;31mModuleNotFoundError\u001b[0m: No module named 'google.colab'"
     ]
    }
   ],
   "source": [
    "from google.colab import drive\n",
    "drive.mount('/content/drive')"
   ]
  },
  {
   "cell_type": "code",
   "execution_count": 10,
   "id": "c20a9f31",
   "metadata": {
    "scrolled": false
   },
   "outputs": [
    {
     "ename": "FileNotFoundError",
     "evalue": "[WinError 3] O sistema não pode encontrar o caminho especificado: 'C:/content/drive/MyDrive/Datasets/Dataset RGB/Classificador Red x Blue/Treinamento\\\\vermelho'",
     "output_type": "error",
     "traceback": [
      "\u001b[1;31m---------------------------------------------------------------------------\u001b[0m",
      "\u001b[1;31mFileNotFoundError\u001b[0m                         Traceback (most recent call last)",
      "Cell \u001b[1;32mIn[10], line 5\u001b[0m\n\u001b[0;32m      2\u001b[0m dataset_dir \u001b[38;5;241m=\u001b[39m os\u001b[38;5;241m.\u001b[39mpath\u001b[38;5;241m.\u001b[39mjoin(os\u001b[38;5;241m.\u001b[39mgetcwd(), \u001b[38;5;124m'\u001b[39m\u001b[38;5;124m/content/drive/MyDrive/Datasets/Dataset RGB/Classificador Red x Blue\u001b[39m\u001b[38;5;124m'\u001b[39m)\n\u001b[0;32m      4\u001b[0m dataset_train_dir \u001b[38;5;241m=\u001b[39m os\u001b[38;5;241m.\u001b[39mpath\u001b[38;5;241m.\u001b[39mjoin(dataset_dir, \u001b[38;5;124m'\u001b[39m\u001b[38;5;124m/content/drive/MyDrive/Datasets/Dataset RGB/Classificador Red x Blue/Treinamento\u001b[39m\u001b[38;5;124m'\u001b[39m )\n\u001b[1;32m----> 5\u001b[0m dataset_train_red_len \u001b[38;5;241m=\u001b[39m \u001b[38;5;28mlen\u001b[39m(\u001b[43mos\u001b[49m\u001b[38;5;241;43m.\u001b[39;49m\u001b[43mlistdir\u001b[49m\u001b[43m(\u001b[49m\u001b[43mos\u001b[49m\u001b[38;5;241;43m.\u001b[39;49m\u001b[43mpath\u001b[49m\u001b[38;5;241;43m.\u001b[39;49m\u001b[43mjoin\u001b[49m\u001b[43m(\u001b[49m\u001b[43mdataset_train_dir\u001b[49m\u001b[43m,\u001b[49m\u001b[43m \u001b[49m\u001b[38;5;124;43m'\u001b[39;49m\u001b[38;5;124;43mvermelho\u001b[39;49m\u001b[38;5;124;43m'\u001b[39;49m\u001b[43m)\u001b[49m\u001b[43m)\u001b[49m)\n\u001b[0;32m      6\u001b[0m dataset_train_blue_len \u001b[38;5;241m=\u001b[39m \u001b[38;5;28mlen\u001b[39m(os\u001b[38;5;241m.\u001b[39mlistdir(os\u001b[38;5;241m.\u001b[39mpath\u001b[38;5;241m.\u001b[39mjoin(dataset_train_dir, \u001b[38;5;124m'\u001b[39m\u001b[38;5;124mazul\u001b[39m\u001b[38;5;124m'\u001b[39m)))\n\u001b[0;32m      9\u001b[0m dataset_validation_dir \u001b[38;5;241m=\u001b[39m os\u001b[38;5;241m.\u001b[39mpath\u001b[38;5;241m.\u001b[39mjoin(dataset_dir, \u001b[38;5;124m'\u001b[39m\u001b[38;5;124m/content/drive/MyDrive/Datasets/Dataset RGB/Classificador Red x Blue/Teste\u001b[39m\u001b[38;5;124m'\u001b[39m )\n",
      "\u001b[1;31mFileNotFoundError\u001b[0m: [WinError 3] O sistema não pode encontrar o caminho especificado: 'C:/content/drive/MyDrive/Datasets/Dataset RGB/Classificador Red x Blue/Treinamento\\\\vermelho'"
     ]
    }
   ],
   "source": [
    "# Baixando dataset e manipulando\n",
    "dataset_dir = os.path.join(os.getcwd(), '/content/drive/MyDrive/Datasets/Dataset RGB/Classificador Red x Blue')\n",
    "\n",
    "dataset_train_dir = os.path.join(dataset_dir, '/content/drive/MyDrive/Datasets/Dataset RGB/Classificador Red x Blue/Treinamento' )\n",
    "dataset_train_red_len = len(os.listdir(os.path.join(dataset_train_dir, 'vermelho')))\n",
    "dataset_train_blue_len = len(os.listdir(os.path.join(dataset_train_dir, 'azul')))\n",
    "\n",
    "\n",
    "dataset_validation_dir = os.path.join(dataset_dir, '/content/drive/MyDrive/Datasets/Dataset RGB/Classificador Red x Blue/Teste' )\n",
    "dataset_validation_red_len = len(os.listdir(os.path.join(dataset_validation_dir, 'vermelho')))\n",
    "dataset_validation_blue_len = len(os.listdir(os.path.join(dataset_validation_dir, 'azul')))\n",
    "\n",
    "\n",
    "print('Train Vermelho: %s' % dataset_train_red_len)\n",
    "print('Train Azul: %s' % dataset_train_blue_len)\n",
    "\n",
    "\n",
    "print('validation Vermelho: %s' % dataset_validation_red_len)\n",
    "print('validation Azul: %s' % dataset_validation_blue_len)"
   ]
  },
  {
   "cell_type": "code",
   "execution_count": null,
   "id": "9e9e82c0",
   "metadata": {},
   "outputs": [],
   "source": [
    "from keras.layers.regularization.dropout import Dropout\n",
    "# Rede Neural\n",
    "\n",
    "model = Sequential()\n",
    "\n",
    "model.add(Conv2D(32, (3,3), activation = 'relu', input_shape= (150,150,3) ))\n",
    "model.add(BatchNormalization())\n",
    "model.add(MaxPooling2D(pool_size = (2,2)))\n",
    "\n",
    "model.add(Conv2D(32,(3,3), activation = 'relu' , input_shape= (150,150,3)))\n",
    "model.add(BatchNormalization())\n",
    "model.add(MaxPooling2D(pool_size = (2,2)))\n",
    "\n",
    "model.add(Flatten())\n",
    "\n",
    "model.add(Dense(128, activation = 'relu'))\n",
    "model.add(Dropout(0.2))\n",
    "model.add(Dense(128, activation = 'relu'))\n",
    "model.add(Dropout(0.2))\n",
    "model.add(Dense(1, activation = 'sigmoid'))\n",
    "\n",
    "model.compile(optimizer='adam', loss='binary_crossentropy', metrics = ['accuracy'])"
   ]
  },
  {
   "cell_type": "code",
   "execution_count": null,
   "id": "e2649e9b",
   "metadata": {},
   "outputs": [],
   "source": [
    "gerador_treinamento = ImageDataGenerator(rescale = 1./255,\n",
    "                                         rotation_range = 7, horizontal_flip = True,\n",
    "                                         shear_range = 0.2,\n",
    "                                         height_shift_range = 0.07, \n",
    "                                         zoom_range = 0.2)\n",
    "\n",
    "gerador_teste = ImageDataGenerator(rescale = 1./255)\n",
    "\n",
    "base_treinamento = gerador_treinamento.flow_from_directory('/content/drive/MyDrive/Datasets/Dataset RGB/Classificador Red x Blue/Treinamento',\n",
    "                                                           target_size = (150,150),\n",
    "                                                           batch_size = 32,\n",
    "                                                           class_mode='binary')\n",
    "base_teste = gerador_teste.flow_from_directory('/content/drive/MyDrive/Datasets/Dataset RGB/Classificador Red x Blue/Teste',\n",
    "                                               target_size = (150,150),\n",
    "                                               batch_size = 32,\n",
    "                                               class_mode='binary')"
   ]
  },
  {
   "cell_type": "code",
   "execution_count": null,
   "id": "a6b9ab18",
   "metadata": {},
   "outputs": [],
   "source": [
    "base_treinamento.class_indices"
   ]
  },
  {
   "cell_type": "code",
   "execution_count": null,
   "id": "22205d62",
   "metadata": {},
   "outputs": [],
   "source": [
    "model.fit(base_treinamento,steps_per_epoch = 200/32,\n",
    "          epochs = 5, validation_data = base_teste,\n",
    "          validation_steps = 22)"
   ]
  },
  {
   "cell_type": "code",
   "execution_count": null,
   "id": "3c75f1ed",
   "metadata": {},
   "outputs": [],
   "source": [
    "from tensorflow.keras.utils import load_img, img_to_array\n",
    "import tensorflow as tf\n",
    "image_teste = tf.keras.preprocessing.image.load_img(\n",
    "    '/content/arara_azul.jpg',\n",
    "    grayscale=False,\n",
    "    target_size=(150,150),\n",
    ")\n",
    "image_teste"
   ]
  }
 ],
 "metadata": {
  "kernelspec": {
   "display_name": "Python 3 (ipykernel)",
   "language": "python",
   "name": "python3"
  },
  "language_info": {
   "codemirror_mode": {
    "name": "ipython",
    "version": 3
   },
   "file_extension": ".py",
   "mimetype": "text/x-python",
   "name": "python",
   "nbconvert_exporter": "python",
   "pygments_lexer": "ipython3",
   "version": "3.10.9"
  }
 },
 "nbformat": 4,
 "nbformat_minor": 5
}
