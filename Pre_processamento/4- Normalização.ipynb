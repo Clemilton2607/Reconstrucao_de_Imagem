{
 "cells": [
  {
   "cell_type": "code",
   "execution_count": 7,
   "id": "5023782f",
   "metadata": {},
   "outputs": [],
   "source": [
    "import pandas as pd\n",
    "import os\n",
    "import numpy as np\n",
    "from tensorflow.keras.utils import load_img, img_to_array\n",
    "\n",
    "# Define o diretório do dataset\n",
    "dataset_dir = r\"D:\\Dataset_PIBIC\\Imagem_200\"\n",
    "\n",
    "# Lista todas as imagens do diretório\n",
    "image_files = os.listdir(dataset_dir)\n",
    "\n",
    "# Carrega as imagens e as converte em arrays\n",
    "images = []\n",
    "for file in image_files:\n",
    "    img = load_img(os.path.join(dataset_dir, file), target_size=(150,150))\n",
    "    img_array = img_to_array(img) / 255.0  # Normaliza os valores de pixel para o intervalo [0, 1]\n",
    "    images.append(img_array)"
   ]
  },
  {
   "cell_type": "code",
   "execution_count": 3,
   "id": "51650cfc",
   "metadata": {},
   "outputs": [
    {
     "data": {
      "text/plain": [
       "700"
      ]
     },
     "execution_count": 3,
     "metadata": {},
     "output_type": "execute_result"
    }
   ],
   "source": [
    "len(images)"
   ]
  },
  {
   "cell_type": "code",
   "execution_count": 4,
   "id": "8cb57556",
   "metadata": {},
   "outputs": [
    {
     "data": {
      "text/plain": [
       "list"
      ]
     },
     "execution_count": 4,
     "metadata": {},
     "output_type": "execute_result"
    }
   ],
   "source": [
    "type(images)"
   ]
  },
  {
   "cell_type": "code",
   "execution_count": 8,
   "id": "7f718c73",
   "metadata": {},
   "outputs": [
    {
     "name": "stdout",
     "output_type": "stream",
     "text": [
      "Lista RGB salva com sucesso!\n"
     ]
    }
   ],
   "source": [
    "import pickle\n",
    "# Salvar a lista concatenada em um arquivo usando o pickle\n",
    "with open('lista_200.pkl', 'wb') as arquivo:\n",
    "    pickle.dump(images, arquivo)\n",
    "\n",
    "print(\"Lista RGB salva com sucesso!\")"
   ]
  },
  {
   "cell_type": "code",
   "execution_count": null,
   "id": "e67b9f73",
   "metadata": {},
   "outputs": [],
   "source": []
  }
 ],
 "metadata": {
  "kernelspec": {
   "display_name": "Python 3 (ipykernel)",
   "language": "python",
   "name": "python3"
  },
  "language_info": {
   "codemirror_mode": {
    "name": "ipython",
    "version": 3
   },
   "file_extension": ".py",
   "mimetype": "text/x-python",
   "name": "python",
   "nbconvert_exporter": "python",
   "pygments_lexer": "ipython3",
   "version": "3.10.9"
  }
 },
 "nbformat": 4,
 "nbformat_minor": 5
}
