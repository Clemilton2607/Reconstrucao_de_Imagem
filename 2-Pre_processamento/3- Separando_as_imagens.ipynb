{
 "cells": [
  {
   "cell_type": "markdown",
   "id": "97ab86ee",
   "metadata": {},
   "source": [
    "# Juntando todas as 100 primeiras imagens"
   ]
  },
  {
   "cell_type": "code",
   "execution_count": 1,
   "id": "c1dc97f7",
   "metadata": {},
   "outputs": [],
   "source": [
    "# Exemplo de uso\n",
    "diretorio_origem = r'D:\\Dataset_PIBIC\\Coloridas'\n",
    "diretorio_destino = r'D:\\Dataset_PIBIC\\Imagem_200'\n",
    "\n",
    "diretorio_filtradas_vermelho = r'D:\\Dataset_PIBIC\\Vermelho'\n",
    "diretorio_filtradas_azul = r'D:\\Dataset_PIBIC\\Azul'\n",
    "diretorio_filtradas_verde = r'D:\\Dataset_PIBIC\\Verde'\n",
    "diretorio_filtradas_amarelo = r'D:\\Dataset_PIBIC\\Amarelo'\n",
    "diretorio_filtradas_ciano = r'D:\\Dataset_PIBIC\\Ciano'\n",
    "diretorio_filtradas_laranja = r'D:\\Dataset_PIBIC\\Laranja'\n",
    "diretorio_filtradas_violeta = r'D:\\Dataset_PIBIC\\Violeta'\n"
   ]
  },
  {
   "cell_type": "code",
   "execution_count": 5,
   "id": "fe824a58",
   "metadata": {},
   "outputs": [],
   "source": [
    "import os\n",
    "import shutil\n",
    "\n",
    "def criar_diretorio_100_primeiras_imagens(diretorio_origem, diretorio_destino):\n",
    "    # Verifica se o diretório de destino existe, caso contrário, cria-o\n",
    "    if not os.path.exists(diretorio_destino):\n",
    "        os.makedirs(diretorio_destino)\n",
    "\n",
    "    # Lista todos os arquivos no diretório de origem\n",
    "    arquivos = os.listdir(diretorio_origem)\n",
    "\n",
    "    # Seleciona as 100 primeiras imagens\n",
    "    imagens_selecionadas = arquivos[:100]\n",
    "\n",
    "    # Copia as imagens selecionadas para o diretório de destino\n",
    "    for imagem in imagens_selecionadas:\n",
    "        caminho_imagem_origem = os.path.join(diretorio_origem, imagem)\n",
    "        caminho_imagem_destino = os.path.join(diretorio_destino, imagem)\n",
    "        shutil.copyfile(caminho_imagem_origem, caminho_imagem_destino)\n",
    "\n",
    "    print(\"Criação do novo diretório concluída!\")"
   ]
  },
  {
   "cell_type": "code",
   "execution_count": 6,
   "id": "be1afe0e",
   "metadata": {},
   "outputs": [
    {
     "name": "stdout",
     "output_type": "stream",
     "text": [
      "Criação do novo diretório concluída!\n"
     ]
    }
   ],
   "source": [
    "criar_diretorio_100_primeiras_imagens(diretorio_filtradas_vermelho, diretorio_destino)\n"
   ]
  },
  {
   "cell_type": "code",
   "execution_count": 7,
   "id": "2ca0a766",
   "metadata": {},
   "outputs": [
    {
     "name": "stdout",
     "output_type": "stream",
     "text": [
      "Criação do novo diretório concluída!\n"
     ]
    }
   ],
   "source": [
    "criar_diretorio_100_primeiras_imagens(diretorio_filtradas_azul, diretorio_destino)\n"
   ]
  },
  {
   "cell_type": "code",
   "execution_count": 8,
   "id": "3d48934d",
   "metadata": {},
   "outputs": [
    {
     "name": "stdout",
     "output_type": "stream",
     "text": [
      "Criação do novo diretório concluída!\n"
     ]
    }
   ],
   "source": [
    "criar_diretorio_100_primeiras_imagens(diretorio_filtradas_verde, diretorio_destino)\n"
   ]
  },
  {
   "cell_type": "code",
   "execution_count": 9,
   "id": "25d3d117",
   "metadata": {},
   "outputs": [
    {
     "name": "stdout",
     "output_type": "stream",
     "text": [
      "Criação do novo diretório concluída!\n"
     ]
    }
   ],
   "source": [
    "criar_diretorio_100_primeiras_imagens(diretorio_filtradas_amarelo, diretorio_destino)\n"
   ]
  },
  {
   "cell_type": "code",
   "execution_count": 10,
   "id": "dfc18ae5",
   "metadata": {},
   "outputs": [
    {
     "name": "stdout",
     "output_type": "stream",
     "text": [
      "Criação do novo diretório concluída!\n"
     ]
    }
   ],
   "source": [
    "criar_diretorio_100_primeiras_imagens(diretorio_filtradas_ciano, diretorio_destino)\n"
   ]
  },
  {
   "cell_type": "code",
   "execution_count": 11,
   "id": "4f714a81",
   "metadata": {},
   "outputs": [
    {
     "name": "stdout",
     "output_type": "stream",
     "text": [
      "Criação do novo diretório concluída!\n"
     ]
    }
   ],
   "source": [
    "criar_diretorio_100_primeiras_imagens(diretorio_filtradas_laranja, diretorio_destino)\n"
   ]
  },
  {
   "cell_type": "code",
   "execution_count": 12,
   "id": "79fc1443",
   "metadata": {},
   "outputs": [
    {
     "name": "stdout",
     "output_type": "stream",
     "text": [
      "Criação do novo diretório concluída!\n"
     ]
    }
   ],
   "source": [
    "criar_diretorio_100_primeiras_imagens(diretorio_filtradas_violeta, diretorio_destino)\n"
   ]
  }
 ],
 "metadata": {
  "kernelspec": {
   "display_name": "Python 3 (ipykernel)",
   "language": "python",
   "name": "python3"
  },
  "language_info": {
   "codemirror_mode": {
    "name": "ipython",
    "version": 3
   },
   "file_extension": ".py",
   "mimetype": "text/x-python",
   "name": "python",
   "nbconvert_exporter": "python",
   "pygments_lexer": "ipython3",
   "version": "3.10.9"
  }
 },
 "nbformat": 4,
 "nbformat_minor": 5
}
