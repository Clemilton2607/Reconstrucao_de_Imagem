{
 "cells": [
  {
   "cell_type": "code",
   "execution_count": 1,
   "id": "b3e3e28b",
   "metadata": {},
   "outputs": [],
   "source": [
    "import os\n",
    "import shutil\n",
    "\n",
    "def adicionar_sufixo_cor(diretorio_origem, sufixo):\n",
    "    # Verifica se o diretório de origem existe\n",
    "    if not os.path.exists(diretorio_origem):\n",
    "        print(f\"Diretório {diretorio_origem} não encontrado.\")\n",
    "        return\n",
    "    \n",
    "    # Lista todos os arquivos no diretório de origem\n",
    "    arquivos = os.listdir(diretorio_origem)\n",
    "    \n",
    "    # Itera sobre cada arquivo\n",
    "    for arquivo in arquivos:\n",
    "        # Verifica se é um arquivo de imagem\n",
    "        if arquivo.endswith('.png') or arquivo.endswith('.jpg') or arquivo.endswith('.jpeg'):\n",
    "            # Obtém o caminho completo do arquivo\n",
    "            caminho_arquivo_origem = os.path.join(diretorio_origem, arquivo)\n",
    "            \n",
    "            # Separa o nome do arquivo da extensão\n",
    "            nome_arquivo, extensao = os.path.splitext(arquivo)\n",
    "            \n",
    "            # Adiciona o sufixo da cor ao nome do arquivo\n",
    "            novo_nome_arquivo = nome_arquivo + sufixo + extensao\n",
    "            \n",
    "            # Obtém o caminho completo do novo arquivo\n",
    "            caminho_arquivo_destino = os.path.join(diretorio_origem, novo_nome_arquivo)\n",
    "            \n",
    "            # Renomeia o arquivo adicionando o sufixo da cor\n",
    "            os.rename(caminho_arquivo_origem, caminho_arquivo_destino)\n",
    "    \n",
    "    print(f\"Adição do sufixo '{sufixo}' concluída!\")"
   ]
  },
  {
   "cell_type": "code",
   "execution_count": 2,
   "id": "67f6e835",
   "metadata": {},
   "outputs": [
    {
     "name": "stdout",
     "output_type": "stream",
     "text": [
      "Adição do sufixo '_amarelo' concluída!\n"
     ]
    }
   ],
   "source": [
    "diretorio_origem = r'D:\\Dataset_PIBIC\\Amarelo'\n",
    "sufixo_cor = '_amarelo'\n",
    "adicionar_sufixo_cor(diretorio_origem, sufixo_cor)"
   ]
  },
  {
   "cell_type": "code",
   "execution_count": 3,
   "id": "b67992e4",
   "metadata": {},
   "outputs": [
    {
     "name": "stdout",
     "output_type": "stream",
     "text": [
      "Adição do sufixo '_azul' concluída!\n"
     ]
    }
   ],
   "source": [
    "diretorio_origem = r'D:\\Dataset_PIBIC\\Azul'\n",
    "sufixo_cor = '_azul'\n",
    "adicionar_sufixo_cor(diretorio_origem, sufixo_cor)"
   ]
  },
  {
   "cell_type": "code",
   "execution_count": 4,
   "id": "797b98be",
   "metadata": {},
   "outputs": [
    {
     "name": "stdout",
     "output_type": "stream",
     "text": [
      "Adição do sufixo '_ciano' concluída!\n"
     ]
    }
   ],
   "source": [
    "diretorio_origem = r'D:\\Dataset_PIBIC\\Ciano'\n",
    "sufixo_cor = '_ciano'\n",
    "adicionar_sufixo_cor(diretorio_origem, sufixo_cor)"
   ]
  },
  {
   "cell_type": "code",
   "execution_count": 5,
   "id": "0a5efb8a",
   "metadata": {},
   "outputs": [
    {
     "name": "stdout",
     "output_type": "stream",
     "text": [
      "Adição do sufixo '_laranja' concluída!\n"
     ]
    }
   ],
   "source": [
    "diretorio_origem = r'D:\\Dataset_PIBIC\\Laranja'\n",
    "sufixo_cor = '_laranja'\n",
    "adicionar_sufixo_cor(diretorio_origem, sufixo_cor)"
   ]
  },
  {
   "cell_type": "code",
   "execution_count": 6,
   "id": "db760e99",
   "metadata": {},
   "outputs": [
    {
     "name": "stdout",
     "output_type": "stream",
     "text": [
      "Adição do sufixo '_verde' concluída!\n"
     ]
    }
   ],
   "source": [
    "diretorio_origem = r'D:\\Dataset_PIBIC\\Verde'\n",
    "sufixo_cor = '_verde'\n",
    "adicionar_sufixo_cor(diretorio_origem, sufixo_cor)"
   ]
  },
  {
   "cell_type": "code",
   "execution_count": 7,
   "id": "4324f3a7",
   "metadata": {},
   "outputs": [
    {
     "name": "stdout",
     "output_type": "stream",
     "text": [
      "Adição do sufixo '_vermelho' concluída!\n"
     ]
    }
   ],
   "source": [
    "diretorio_origem = r'D:\\Dataset_PIBIC\\Vermelho'\n",
    "sufixo_cor = '_vermelho'\n",
    "adicionar_sufixo_cor(diretorio_origem, sufixo_cor)"
   ]
  },
  {
   "cell_type": "code",
   "execution_count": 8,
   "id": "b87ad118",
   "metadata": {},
   "outputs": [
    {
     "name": "stdout",
     "output_type": "stream",
     "text": [
      "Adição do sufixo '_violeta' concluída!\n"
     ]
    }
   ],
   "source": [
    "diretorio_origem = r'D:\\Dataset_PIBIC\\Violeta'\n",
    "sufixo_cor = '_violeta'\n",
    "adicionar_sufixo_cor(diretorio_origem, sufixo_cor)"
   ]
  },
  {
   "cell_type": "code",
   "execution_count": null,
   "id": "399b2cee",
   "metadata": {},
   "outputs": [],
   "source": []
  }
 ],
 "metadata": {
  "kernelspec": {
   "display_name": "Python 3 (ipykernel)",
   "language": "python",
   "name": "python3"
  },
  "language_info": {
   "codemirror_mode": {
    "name": "ipython",
    "version": 3
   },
   "file_extension": ".py",
   "mimetype": "text/x-python",
   "name": "python",
   "nbconvert_exporter": "python",
   "pygments_lexer": "ipython3",
   "version": "3.10.9"
  }
 },
 "nbformat": 4,
 "nbformat_minor": 5
}
